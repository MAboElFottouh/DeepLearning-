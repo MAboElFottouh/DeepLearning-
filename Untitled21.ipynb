{
  "nbformat": 4,
  "nbformat_minor": 0,
  "metadata": {
    "colab": {
      "name": "Untitled21.ipynb",
      "provenance": [],
      "authorship_tag": "ABX9TyMeaIu5Ec3IE7UZmdhnDlqB",
      "include_colab_link": true
    },
    "kernelspec": {
      "name": "python3",
      "display_name": "Python 3"
    },
    "language_info": {
      "name": "python"
    },
    "accelerator": "GPU"
  },
  "cells": [
    {
      "cell_type": "markdown",
      "metadata": {
        "id": "view-in-github",
        "colab_type": "text"
      },
      "source": [
        "<a href=\"https://colab.research.google.com/github/MAboElFottouh/DeepLearning-/blob/main/Untitled21.ipynb\" target=\"_parent\"><img src=\"https://colab.research.google.com/assets/colab-badge.svg\" alt=\"Open In Colab\"/></a>"
      ]
    },
    {
      "cell_type": "code",
      "execution_count": null,
      "metadata": {
        "id": "pTM1idz-e_8r"
      },
      "outputs": [],
      "source": [
        "import tensorflow as tf\n",
        "import os\n",
        "import cv2\n",
        "import matplotlib.pyplot as plt\n",
        "import PIL"
      ]
    },
    {
      "cell_type": "code",
      "source": [
        "from google.colab import drive\n",
        "drive.mount('/content/drive')"
      ],
      "metadata": {
        "id": "q9ZcIajffJNH"
      },
      "execution_count": null,
      "outputs": []
    },
    {
      "cell_type": "markdown",
      "source": [
        "#load data\n",
        "## 10,000 images only "
      ],
      "metadata": {
        "id": "7scpZEIKgC_T"
      }
    },
    {
      "cell_type": "code",
      "source": [
        "images = []\n",
        "path = '/content/drive/MyDrive/mini_celebA/1' \n",
        "for image in os.listdir(path):\n",
        "  img = cv2.imread(path+'/'+image)\n",
        "  images.append(img)"
      ],
      "metadata": {
        "id": "syAyZbcYfzDX"
      },
      "execution_count": null,
      "outputs": []
    },
    {
      "cell_type": "code",
      "source": [
        "import numpy as np\n",
        "images=np.array(images)\n",
        "images.shape"
      ],
      "metadata": {
        "id": "0EqfKTPfgAXX"
      },
      "execution_count": null,
      "outputs": []
    },
    {
      "cell_type": "markdown",
      "source": [
        "#resize"
      ],
      "metadata": {
        "id": "nrWAWxFWjSd8"
      }
    },
    {
      "cell_type": "code",
      "source": [
        "def resizee(images):\n",
        "  af_resize = []\n",
        "  for image in images:\n",
        "    af_resize.append(cv2.resize(image,(64,64)))\n",
        "  return af_resize"
      ],
      "metadata": {
        "id": "AahoXrWah1uh"
      },
      "execution_count": null,
      "outputs": []
    },
    {
      "cell_type": "code",
      "source": [
        "resizee = resizee(images)\n"
      ],
      "metadata": {
        "id": "et9x1M3-jYMU"
      },
      "execution_count": null,
      "outputs": []
    },
    {
      "cell_type": "markdown",
      "source": [
        "\n",
        "\n",
        "```\n",
        "# make pxial between 0 . 1 \n",
        "```\n",
        "\n"
      ],
      "metadata": {
        "id": "-n-fZz5Ji_hw"
      }
    },
    {
      "cell_type": "code",
      "source": [
        "normalized = np.array(resizee)/255\n",
        "train_dataset = tf.data.Dataset.from_tensor_slices(normalized).batch(256)"
      ],
      "metadata": {
        "id": "eycYaFSujdyi"
      },
      "execution_count": null,
      "outputs": []
    },
    {
      "cell_type": "code",
      "source": [
        ""
      ],
      "metadata": {
        "id": "Q8mbCw73-naK"
      },
      "execution_count": null,
      "outputs": []
    },
    {
      "cell_type": "code",
      "source": [
        "normalized.shape"
      ],
      "metadata": {
        "id": "6Wqv5Ifr-FCI"
      },
      "execution_count": null,
      "outputs": []
    },
    {
      "cell_type": "code",
      "source": [
        "#Display first 25 images\n",
        "import matplotlib.pyplot as plt\n",
        "\n",
        "plt.figure(1, figsize=(10, 10))\n",
        "for i in range(25):\n",
        "    plt.subplot(5, 5, i+1)\n",
        "    #cv2.cvtColor(im_cv, cv2.COLOR_BGR2RGB)\n",
        "    plt.imshow(cv2.cvtColor(resizee[i], cv2.COLOR_RGB2BGR)) ##plt show BGR \n",
        "    plt.axis('off')\n",
        "plt.show()"
      ],
      "metadata": {
        "id": "Og0j_QIAjhHb"
      },
      "execution_count": null,
      "outputs": []
    },
    {
      "cell_type": "code",
      "source": [
        ""
      ],
      "metadata": {
        "id": "CY6nWqZWjtAF"
      },
      "execution_count": null,
      "outputs": []
    },
    {
      "cell_type": "code",
      "source": [
        "# take this function from tensorflow websit\n",
        "# and kaggle\n",
        "from tensorflow.keras import Sequential\n",
        "from tensorflow.keras.layers import Flatten,Conv2D,Dropout,Dense,Conv2DTranspose,Reshape,BatchNormalization,LeakyReLU\n",
        "\n",
        "def make_generator_model():\n",
        "    model = Sequential()\n",
        "    model.add(Dense(4*4*512, input_shape=(100,)))\n",
        "    model.add(Reshape((4, 4, 512)))\n",
        "    model.add(Conv2DTranspose(256, 5, strides=2, padding='same'))\n",
        "\n",
        "    model.add(LeakyReLU())\n",
        "    model.add(BatchNormalization())\n",
        "    model.add(Conv2DTranspose(128, 4, strides=2, padding='same'))\n",
        "\n",
        "    model.add(LeakyReLU())\n",
        "    model.add(BatchNormalization())\n",
        "    model.add(Conv2DTranspose(64, 4, strides=2, padding='same'))\n",
        "\n",
        "    model.add(BatchNormalization())\n",
        "    model.add(LeakyReLU())\n",
        "\n",
        "    model.add(Conv2DTranspose(3, 4, strides=2, padding='same',activation='sigmoid'))\n",
        "\n",
        "    return model\n"
      ],
      "metadata": {
        "id": "vWjfcrEVtLz5"
      },
      "execution_count": null,
      "outputs": []
    },
    {
      "cell_type": "code",
      "source": [
        "from tensorflow.keras import layers\n",
        "generator = make_generator_model()\n",
        "print(generator.summary())\n",
        "noise = tf.random.normal([1, 100])\n",
        "generated_image = generator(noise, training=False)\n",
        "\n",
        "plt.imshow(generated_image[0, :, :, 0], cmap='gray')"
      ],
      "metadata": {
        "id": "i0H0HVCbtb8-"
      },
      "execution_count": null,
      "outputs": []
    },
    {
      "cell_type": "code",
      "source": [
        "from IPython.display import Image\n",
        "from keras.utils.vis_utils import model_to_dot"
      ],
      "metadata": {
        "id": "fEH-gXMotqVA"
      },
      "execution_count": null,
      "outputs": []
    },
    {
      "cell_type": "code",
      "source": [
        "Image(model_to_dot(model, show_shapes=True).create_png())\n"
      ],
      "metadata": {
        "id": "Z29vqz5KuSVs"
      },
      "execution_count": null,
      "outputs": []
    },
    {
      "cell_type": "code",
      "source": [
        "def make_discriminator_model():\n",
        "    model = tf.keras.Sequential()\n",
        "    model.add(Conv2D(32, 4, 2, padding='same', input_shape=(64, 64, 3)))\n",
        "    model.add(Conv2D(64, 4, 2, padding='same'))\n",
        "    model.add(LeakyReLU())\n",
        "    model.add(BatchNormalization())\n",
        "    model.add(Conv2D(128, 4,2, padding='same'))\n",
        "    model.add(LeakyReLU())\n",
        "    model.add(BatchNormalization())\n",
        "    model.add(Conv2D(256, 4,2, padding='same'))\n",
        "    model.add(LeakyReLU())\n",
        "    model.add(Flatten())\n",
        "    model.add(Dropout(0.5))\n",
        "\n",
        "    model.add(Dense(1,activation='sigmoid'))\n",
        "\n",
        "    return model"
      ],
      "metadata": {
        "id": "3vDav1L-uVZU"
      },
      "execution_count": null,
      "outputs": []
    },
    {
      "cell_type": "code",
      "source": [
        "discriminator = make_discriminator_model()\n",
        "discriminator.summary()\n",
        "decision = discriminator(generated_image)\n",
        "print (decision)"
      ],
      "metadata": {
        "id": "vK-FyOF_upjt"
      },
      "execution_count": null,
      "outputs": []
    },
    {
      "cell_type": "code",
      "source": [
        "cross_entropy = tf.keras.losses.BinaryCrossentropy(from_logits=True)\n",
        "def discriminator_loss(real_output, fake_output):\n",
        "    real_loss = cross_entropy(tf.ones_like(real_output), real_output)\n",
        "    fake_loss = cross_entropy(tf.zeros_like(fake_output), fake_output)\n",
        "    total_loss = real_loss + fake_loss\n",
        "    return total_loss, real_loss, fake_loss"
      ],
      "metadata": {
        "id": "mK4qh--7wRHd"
      },
      "execution_count": null,
      "outputs": []
    },
    {
      "cell_type": "code",
      "source": [
        "def generator_loss(fake_output):\n",
        "    return cross_entropy(tf.ones_like(fake_output), fake_output)"
      ],
      "metadata": {
        "id": "mSGVQug-wsYH"
      },
      "execution_count": null,
      "outputs": []
    },
    {
      "cell_type": "code",
      "source": [
        "generator_optimizer = tf.keras.optimizers.Adam(0.001)\n",
        "discriminator_optimizer = tf.keras.optimizers.Adam(0.001)"
      ],
      "metadata": {
        "id": "Yl35q6w3xJmH"
      },
      "execution_count": null,
      "outputs": []
    },
    {
      "cell_type": "code",
      "source": [
        ""
      ],
      "metadata": {
        "id": "u3YfqOX1xZ3F"
      },
      "execution_count": null,
      "outputs": []
    },
    {
      "cell_type": "markdown",
      "source": [
        "#Define the training loop"
      ],
      "metadata": {
        "id": "4g69-nyOyPtK"
      }
    },
    {
      "cell_type": "code",
      "source": [
        "import time\n",
        "EPOCHS = 50\n",
        "noise_dim = 100     \n",
        "num_examples_to_generate = 16\n",
        "BATCH_SIZE = 256\n",
        "seed = tf.random.normal([num_examples_to_generate, noise_dim])"
      ],
      "metadata": {
        "id": "2y5d7NgNxgEJ"
      },
      "execution_count": null,
      "outputs": []
    },
    {
      "cell_type": "code",
      "source": [
        "checkpoint_dir = './training_checkpoints'\n",
        "checkpoint_prefix = os.path.join(checkpoint_dir, \"ckpt\")\n",
        "checkpoint = tf.train.Checkpoint(generator_optimizer=generator_optimizer,\n",
        "                                 discriminator_optimizer=discriminator_optimizer,\n",
        "                                 generator=generator,\n",
        "                                 discriminator=discriminator)"
      ],
      "metadata": {
        "id": "ijPOEm4sy3HC"
      },
      "execution_count": null,
      "outputs": []
    },
    {
      "cell_type": "code",
      "source": [
        "# Notice the use of `tf.function`\n",
        "# This annotation causes the function to be \"compiled\".\n",
        "@tf.function\n",
        "def train_step(images):\n",
        "    noise = tf.random.normal([BATCH_SIZE, noise_dim])\n",
        "\n",
        "    with tf.GradientTape() as gen_tape, tf.GradientTape() as disc_tape:\n",
        "      generated_images = generator(noise, training=True)\n",
        "\n",
        "      real_output = discriminator(images, training=True)\n",
        "      fake_output = discriminator(generated_images, training=True)\n",
        "\n",
        "      gen_loss = generator_loss(fake_output)\n",
        "      disc_loss, real_loss, fake_loss = discriminator_loss(real_output, fake_output)\n",
        "\n",
        "    gradients_of_generator = gen_tape.gradient(gen_loss, generator.trainable_variables)\n",
        "    gradients_of_discriminator = disc_tape.gradient(disc_loss, discriminator.trainable_variables)\n",
        "\n",
        "    generator_optimizer.apply_gradients(zip(gradients_of_generator, generator.trainable_variables))\n",
        "    discriminator_optimizer.apply_gradients(zip(gradients_of_discriminator, discriminator.trainable_variables))\n",
        "    return gen_loss, disc_loss, real_loss, fake_loss"
      ],
      "metadata": {
        "id": "1sawAhibyTa_"
      },
      "execution_count": null,
      "outputs": []
    },
    {
      "cell_type": "code",
      "source": [
        "def train(dataset, epochs):\n",
        "  gen_hist = []\n",
        "  disc_hist = []\n",
        "  disc_real_hist = []\n",
        "  disc_fake_hist = []\n",
        "  for epoch in range(epochs):\n",
        "    start = time.time()\n",
        "\n",
        "    for image_batch in dataset:\n",
        "      g_loss, d_loss, d_real_loss, d_fake_loss = train_step(image_batch)\n",
        "      g_loss = g_loss.numpy()\n",
        "      d_loss = d_loss.numpy()\n",
        "      d_real_loss = d_real_loss.numpy()\n",
        "      d_fake_loss = d_fake_loss.numpy()\n",
        "      gen_hist.append(g_loss)\n",
        "      disc_hist.append(d_loss)\n",
        "      disc_real_hist.append(d_real_loss)\n",
        "      disc_fake_hist.append(d_fake_loss)\n",
        "    print(\"G_loss:\", g_loss, \"D_loss:\", d_real_loss, d_fake_loss, d_loss)\n",
        "\n",
        "    # Produce images for the GIF as you go\n",
        "    # display.clear_output(wait=True)\n",
        "    generate_and_save_images(generator,\n",
        "                             epoch + 1,\n",
        "                             seed)\n",
        "\n",
        "    # Save the model every 15 epochs\n",
        "    if (epoch + 1) % 15 == 0:\n",
        "      checkpoint.save(file_prefix = checkpoint_prefix)\n",
        "\n",
        "    print ('Time for epoch {} is {} sec'.format(epoch + 1, time.time()-start))\n",
        "\n",
        "  # Generate after the final epoch\n",
        "  # display.clear_output(wait=True)\n",
        "  generate_and_save_images(generator,\n",
        "                           epochs,\n",
        "                           seed)\n",
        "  plot_history(disc_real_hist, disc_fake_hist, disc_hist, gen_hist)"
      ],
      "metadata": {
        "id": "MeSZSIFtyWro"
      },
      "execution_count": null,
      "outputs": []
    },
    {
      "cell_type": "code",
      "source": [
        "def generate_and_save_images(model, epoch, test_input):\n",
        "  # Notice `training` is set to False.\n",
        "  # This is so all layers run in inference mode (batchnorm).\n",
        "  predictions = model(test_input, training=False)\n",
        "\n",
        "  fig = plt.figure(figsize=(4, 4))\n",
        "\n",
        "  for i in range(predictions.shape[0]):\n",
        "      plt.subplot(4, 4, i+1)\n",
        "      plt.imshow(predictions[i, :, :, 0] * 127.5 + 127.5, cmap='gray')\n",
        "      plt.axis('off')\n",
        "\n",
        "  plt.savefig('image_at_epoch_{:04d}.png'.format(epoch))\n",
        "  plt.show()"
      ],
      "metadata": {
        "id": "tpCZu0layb54"
      },
      "execution_count": null,
      "outputs": []
    },
    {
      "cell_type": "code",
      "source": [
        "def plot_history(d1_hist, d2_hist, d_hist, g_hist):\n",
        "  # plot loss\n",
        "  plt.plot(d1_hist, label='d-real')\n",
        "  plt.plot(d2_hist, label='d-fake')\n",
        "  plt.plot(d_hist, label='d-total')\n",
        "  plt.plot(g_hist, label='gen')\n",
        "  plt.legend()\n",
        "  # save plot to file\n",
        "  plt.savefig('plot_loss.png')\n",
        "  plt.show()\n",
        "  plt.close()"
      ],
      "metadata": {
        "id": "8DSxGA33ye82"
      },
      "execution_count": null,
      "outputs": []
    },
    {
      "cell_type": "code",
      "source": [
        "train(train_dataset, EPOCHS)"
      ],
      "metadata": {
        "id": "zs3_KiXs3Yyg"
      },
      "execution_count": null,
      "outputs": []
    },
    {
      "cell_type": "code",
      "source": [
        ""
      ],
      "metadata": {
        "id": "Yj5P3BXs3EEV"
      },
      "execution_count": null,
      "outputs": []
    },
    {
      "cell_type": "code",
      "source": [
        "train(normalized, EPOCHS)"
      ],
      "metadata": {
        "id": "n739DF2Bykev"
      },
      "execution_count": null,
      "outputs": []
    },
    {
      "cell_type": "code",
      "source": [
        "|"
      ],
      "metadata": {
        "id": "usHFtivD2tvn"
      },
      "execution_count": null,
      "outputs": []
    }
  ]
}